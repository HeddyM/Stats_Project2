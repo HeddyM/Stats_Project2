{
 "cells": [
  {
   "cell_type": "code",
   "execution_count": null,
   "id": "f8d7cea8-d38d-4dd1-908c-3724bb54c9f8",
   "metadata": {},
   "outputs": [],
   "source": [
    "\"\"\"\n",
    "Write a function that takes a string and calculates the number of letters and digits within it. Return the result in a dictionary.\n",
    "\n",
    "Examples:\n",
    "    count_all(\"Hello World\") ➞ { \"LETTERS\":  10, \"DIGITS\": 0 }\n",
    "\n",
    "    count_all(\"H3ll0 Wor1d\") ➞ { \"LETTERS\":  7, \"DIGITS\": 3 }\n",
    "\n",
    "    count_all(\"149990\") ➞ { \"LETTERS\": 0, \"DIGITS\": 6 }\n",
    "\n",
    "Notes:\n",
    "    - Tests contain only alphanumeric characters.\n",
    "    - Spaces are not letters.\n",
    "    - All tests contain valid strings.\n",
    "    - The function should return dictionary\n",
    "\n",
    "\"\"\"\n"
   ]
  },
  {
   "cell_type": "code",
   "execution_count": 13,
   "id": "b08d6bdb-978f-4430-842b-8c2ff0fe835d",
   "metadata": {},
   "outputs": [
    {
     "data": {
      "text/plain": [
       "{'LETTERS': 0, 'DIGITS': 6}"
      ]
     },
     "execution_count": 13,
     "metadata": {},
     "output_type": "execute_result"
    }
   ],
   "source": [
    "def count_all(string):\n",
    "    result = {\"LETTERS\": 0, \"DIGITS\": 0}\n",
    "    for char in string:\n",
    "        if char.isalpha():\n",
    "            result[\"LETTERS\"] += 1\n",
    "        elif char.isnumeric():\n",
    "            result[\"DIGITS\"] += 1\n",
    "    return result\n",
    "\n",
    "count_all(\"149990\") \n"
   ]
  },
  {
   "cell_type": "code",
   "execution_count": null,
   "id": "083960ef-459c-4367-830e-ca9382387afd",
   "metadata": {},
   "outputs": [],
   "source": []
  }
 ],
 "metadata": {
  "kernelspec": {
   "display_name": "Python 3 (ipykernel)",
   "language": "python",
   "name": "python3"
  },
  "language_info": {
   "codemirror_mode": {
    "name": "ipython",
    "version": 3
   },
   "file_extension": ".py",
   "mimetype": "text/x-python",
   "name": "python",
   "nbconvert_exporter": "python",
   "pygments_lexer": "ipython3",
   "version": "3.11.3"
  }
 },
 "nbformat": 4,
 "nbformat_minor": 5
}
