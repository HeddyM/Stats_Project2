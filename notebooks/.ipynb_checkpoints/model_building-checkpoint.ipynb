{
 "cells": [
  {
   "cell_type": "markdown",
   "metadata": {},
   "source": [
    "Build a regression model."
   ]
  },
  {
   "cell_type": "code",
   "execution_count": 3,
   "metadata": {
    "tags": []
   },
   "outputs": [],
   "source": [
    "import pandas as pd"
   ]
  },
  {
   "cell_type": "code",
   "execution_count": 4,
   "metadata": {
    "tags": []
   },
   "outputs": [
    {
     "data": {
      "text/html": [
       "<div>\n",
       "<style scoped>\n",
       "    .dataframe tbody tr th:only-of-type {\n",
       "        vertical-align: middle;\n",
       "    }\n",
       "\n",
       "    .dataframe tbody tr th {\n",
       "        vertical-align: top;\n",
       "    }\n",
       "\n",
       "    .dataframe thead th {\n",
       "        text-align: right;\n",
       "    }\n",
       "</style>\n",
       "<table border=\"1\" class=\"dataframe\">\n",
       "  <thead>\n",
       "    <tr style=\"text-align: right;\">\n",
       "      <th></th>\n",
       "      <th>uid</th>\n",
       "      <th>station</th>\n",
       "      <th>latitude</th>\n",
       "      <th>longitude</th>\n",
       "      <th>slots</th>\n",
       "      <th>free_bikes</th>\n",
       "      <th>ll</th>\n",
       "      <th>edu_facility</th>\n",
       "      <th>edu_distance</th>\n",
       "      <th>venue_name</th>\n",
       "      <th>venue_review_count</th>\n",
       "      <th>venue_rating</th>\n",
       "      <th>venue_distance</th>\n",
       "      <th>venue_price</th>\n",
       "    </tr>\n",
       "  </thead>\n",
       "  <tbody>\n",
       "    <tr>\n",
       "      <th>0</th>\n",
       "      <td>7301</td>\n",
       "      <td>Primrose Ave / Davenport Rd</td>\n",
       "      <td>43.67142</td>\n",
       "      <td>-79.445947</td>\n",
       "      <td>15</td>\n",
       "      <td>12</td>\n",
       "      <td>43.67142,-79.445947</td>\n",
       "      <td>St Josephat</td>\n",
       "      <td>588.0</td>\n",
       "      <td>The Cat's Cradle  Sports and Spirits</td>\n",
       "      <td>5.0</td>\n",
       "      <td>4.5</td>\n",
       "      <td>634.199655</td>\n",
       "      <td>NaN</td>\n",
       "    </tr>\n",
       "    <tr>\n",
       "      <th>1</th>\n",
       "      <td>7301</td>\n",
       "      <td>Primrose Ave / Davenport Rd</td>\n",
       "      <td>43.67142</td>\n",
       "      <td>-79.445947</td>\n",
       "      <td>15</td>\n",
       "      <td>12</td>\n",
       "      <td>43.67142,-79.445947</td>\n",
       "      <td>St Josephat</td>\n",
       "      <td>588.0</td>\n",
       "      <td>The Greater Good Bar</td>\n",
       "      <td>53.0</td>\n",
       "      <td>4.0</td>\n",
       "      <td>604.248992</td>\n",
       "      <td>$$</td>\n",
       "    </tr>\n",
       "    <tr>\n",
       "      <th>2</th>\n",
       "      <td>7301</td>\n",
       "      <td>Primrose Ave / Davenport Rd</td>\n",
       "      <td>43.67142</td>\n",
       "      <td>-79.445947</td>\n",
       "      <td>15</td>\n",
       "      <td>12</td>\n",
       "      <td>43.67142,-79.445947</td>\n",
       "      <td>St Josephat</td>\n",
       "      <td>588.0</td>\n",
       "      <td>CANO Restaurant</td>\n",
       "      <td>71.0</td>\n",
       "      <td>4.5</td>\n",
       "      <td>920.049873</td>\n",
       "      <td>$$</td>\n",
       "    </tr>\n",
       "    <tr>\n",
       "      <th>3</th>\n",
       "      <td>7301</td>\n",
       "      <td>Primrose Ave / Davenport Rd</td>\n",
       "      <td>43.67142</td>\n",
       "      <td>-79.445947</td>\n",
       "      <td>15</td>\n",
       "      <td>12</td>\n",
       "      <td>43.67142,-79.445947</td>\n",
       "      <td>St Josephat</td>\n",
       "      <td>588.0</td>\n",
       "      <td>This Month Only Bar</td>\n",
       "      <td>5.0</td>\n",
       "      <td>1.0</td>\n",
       "      <td>819.082749</td>\n",
       "      <td>$</td>\n",
       "    </tr>\n",
       "    <tr>\n",
       "      <th>4</th>\n",
       "      <td>7301</td>\n",
       "      <td>Primrose Ave / Davenport Rd</td>\n",
       "      <td>43.67142</td>\n",
       "      <td>-79.445947</td>\n",
       "      <td>15</td>\n",
       "      <td>12</td>\n",
       "      <td>43.67142,-79.445947</td>\n",
       "      <td>St Josephat</td>\n",
       "      <td>588.0</td>\n",
       "      <td>EL TREN LATÍNO</td>\n",
       "      <td>1.0</td>\n",
       "      <td>4.0</td>\n",
       "      <td>774.179855</td>\n",
       "      <td>NaN</td>\n",
       "    </tr>\n",
       "  </tbody>\n",
       "</table>\n",
       "</div>"
      ],
      "text/plain": [
       "    uid                      station  latitude  longitude  slots  free_bikes  \\\n",
       "0  7301  Primrose Ave / Davenport Rd  43.67142 -79.445947     15          12   \n",
       "1  7301  Primrose Ave / Davenport Rd  43.67142 -79.445947     15          12   \n",
       "2  7301  Primrose Ave / Davenport Rd  43.67142 -79.445947     15          12   \n",
       "3  7301  Primrose Ave / Davenport Rd  43.67142 -79.445947     15          12   \n",
       "4  7301  Primrose Ave / Davenport Rd  43.67142 -79.445947     15          12   \n",
       "\n",
       "                    ll edu_facility  edu_distance  \\\n",
       "0  43.67142,-79.445947  St Josephat         588.0   \n",
       "1  43.67142,-79.445947  St Josephat         588.0   \n",
       "2  43.67142,-79.445947  St Josephat         588.0   \n",
       "3  43.67142,-79.445947  St Josephat         588.0   \n",
       "4  43.67142,-79.445947  St Josephat         588.0   \n",
       "\n",
       "                             venue_name  venue_review_count  venue_rating  \\\n",
       "0  The Cat's Cradle  Sports and Spirits                 5.0           4.5   \n",
       "1                  The Greater Good Bar                53.0           4.0   \n",
       "2                       CANO Restaurant                71.0           4.5   \n",
       "3                   This Month Only Bar                 5.0           1.0   \n",
       "4                        EL TREN LATÍNO                 1.0           4.0   \n",
       "\n",
       "   venue_distance venue_price  \n",
       "0      634.199655         NaN  \n",
       "1      604.248992          $$  \n",
       "2      920.049873          $$  \n",
       "3      819.082749           $  \n",
       "4      774.179855         NaN  "
      ]
     },
     "execution_count": 4,
     "metadata": {},
     "output_type": "execute_result"
    }
   ],
   "source": [
    "# Load data\n",
    "project_data = pd.read_csv('project_data_all.csv')\n",
    "project_data.head()\n"
   ]
  },
  {
   "cell_type": "code",
   "execution_count": 18,
   "metadata": {
    "tags": []
   },
   "outputs": [],
   "source": [
    "# add a column to calculate the % of total bikes available for use at each location ie. free bikes as % of total slots\n",
    "# I want to use this as the dependant variable in my regression model\n",
    "\n",
    "project_data['percent_free'] = project_data['free_bikes'] / project_data['slots'] * 100\n",
    "\n"
   ]
  },
  {
   "cell_type": "code",
   "execution_count": null,
   "metadata": {},
   "outputs": [],
   "source": []
  },
  {
   "cell_type": "code",
   "execution_count": 20,
   "metadata": {
    "tags": []
   },
   "outputs": [
    {
     "data": {
      "text/html": [
       "<div>\n",
       "<style scoped>\n",
       "    .dataframe tbody tr th:only-of-type {\n",
       "        vertical-align: middle;\n",
       "    }\n",
       "\n",
       "    .dataframe tbody tr th {\n",
       "        vertical-align: top;\n",
       "    }\n",
       "\n",
       "    .dataframe thead th {\n",
       "        text-align: right;\n",
       "    }\n",
       "</style>\n",
       "<table border=\"1\" class=\"dataframe\">\n",
       "  <thead>\n",
       "    <tr style=\"text-align: right;\">\n",
       "      <th></th>\n",
       "      <th>uid</th>\n",
       "      <th>percent_free</th>\n",
       "      <th>venue_count</th>\n",
       "      <th>mean_rating</th>\n",
       "      <th>mean_review_count</th>\n",
       "    </tr>\n",
       "  </thead>\n",
       "  <tbody>\n",
       "    <tr>\n",
       "      <th>0</th>\n",
       "      <td>7000</td>\n",
       "      <td>28.571429</td>\n",
       "      <td>1250</td>\n",
       "      <td>3.83</td>\n",
       "      <td>106.68</td>\n",
       "    </tr>\n",
       "    <tr>\n",
       "      <th>1</th>\n",
       "      <td>7002</td>\n",
       "      <td>31.578947</td>\n",
       "      <td>2500</td>\n",
       "      <td>3.68</td>\n",
       "      <td>98.00</td>\n",
       "    </tr>\n",
       "    <tr>\n",
       "      <th>2</th>\n",
       "      <td>7004</td>\n",
       "      <td>100.000000</td>\n",
       "      <td>2500</td>\n",
       "      <td>3.78</td>\n",
       "      <td>186.80</td>\n",
       "    </tr>\n",
       "    <tr>\n",
       "      <th>3</th>\n",
       "      <td>7005</td>\n",
       "      <td>82.608696</td>\n",
       "      <td>2500</td>\n",
       "      <td>3.81</td>\n",
       "      <td>134.86</td>\n",
       "    </tr>\n",
       "    <tr>\n",
       "      <th>4</th>\n",
       "      <td>7006</td>\n",
       "      <td>84.210526</td>\n",
       "      <td>2500</td>\n",
       "      <td>3.61</td>\n",
       "      <td>153.86</td>\n",
       "    </tr>\n",
       "  </tbody>\n",
       "</table>\n",
       "</div>"
      ],
      "text/plain": [
       "    uid  percent_free  venue_count  mean_rating  mean_review_count\n",
       "0  7000     28.571429         1250         3.83             106.68\n",
       "1  7002     31.578947         2500         3.68              98.00\n",
       "2  7004    100.000000         2500         3.78             186.80\n",
       "3  7005     82.608696         2500         3.81             134.86\n",
       "4  7006     84.210526         2500         3.61             153.86"
      ]
     },
     "execution_count": 20,
     "metadata": {},
     "output_type": "execute_result"
    }
   ],
   "source": [
    "# prepare a filtered dataframe for the data needed for this exercise\n",
    "# I am going to create a linear regression model with % of free bikes bikes as the dependant variable\n",
    "# and the number of venues within a 1000 metre radius, average number of venue reviews and average venue rating\n",
    "# as the independant variables\n",
    "\n",
    "\n",
    "# choose the columns that I want in the dataframe for the model\n",
    "col_filter = ['uid', 'percent_free', 'venue_name', 'venue_review_count', 'venue_rating']\n",
    "filtered_df = project_data[col_filter]\n",
    "\n",
    "\n",
    "#filter the dataframe by the bike stations id and get the venue count, and average number of venue reviews and venue rating\n",
    "\n",
    "model_data = filtered_df.groupby(['uid', 'percent_free']).agg({\n",
    "    'venue_name': 'count',\n",
    "    'venue_rating': 'mean',\n",
    "    'venue_review_count': 'mean'\n",
    "}).reset_index()\n",
    "\n",
    "# Rename the columns for clarity\n",
    "model_data.rename(columns={\n",
    "    'venue_name': 'venue_count',\n",
    "    'venue_rating': 'mean_rating',\n",
    "    'venue_review_count': 'mean_review_count'\n",
    "}, inplace=True)\n",
    "\n",
    "model_data.head()\n"
   ]
  },
  {
   "cell_type": "code",
   "execution_count": 31,
   "metadata": {
    "tags": []
   },
   "outputs": [],
   "source": [
    "X = model_data[['venue_count', 'mean_rating', 'mean_review_count']]\n",
    "y = model_data['percent_free']"
   ]
  },
  {
   "cell_type": "code",
   "execution_count": 32,
   "metadata": {
    "tags": []
   },
   "outputs": [],
   "source": [
    "import statsmodels.api as sm"
   ]
  },
  {
   "cell_type": "code",
   "execution_count": 33,
   "metadata": {
    "tags": []
   },
   "outputs": [],
   "source": [
    "X = sm.add_constant(X) \n",
    "lin_reg = sm.OLS(y,X)"
   ]
  },
  {
   "cell_type": "markdown",
   "metadata": {},
   "source": [
    "Provide model output and an interpretation of the results. "
   ]
  },
  {
   "cell_type": "code",
   "execution_count": 34,
   "metadata": {},
   "outputs": [
    {
     "name": "stdout",
     "output_type": "stream",
     "text": [
      "                            OLS Regression Results                            \n",
      "==============================================================================\n",
      "Dep. Variable:           percent_free   R-squared:                       0.167\n",
      "Model:                            OLS   Adj. R-squared:                  0.161\n",
      "Method:                 Least Squares   F-statistic:                     28.37\n",
      "Date:                Sun, 03 Sep 2023   Prob (F-statistic):           9.76e-17\n",
      "Time:                        12:20:30   Log-Likelihood:                -2047.8\n",
      "No. Observations:                 429   AIC:                             4104.\n",
      "Df Residuals:                     425   BIC:                             4120.\n",
      "Df Model:                           3                                         \n",
      "Covariance Type:            nonrobust                                         \n",
      "=====================================================================================\n",
      "                        coef    std err          t      P>|t|      [0.025      0.975]\n",
      "-------------------------------------------------------------------------------------\n",
      "const                66.4809     12.688      5.240      0.000      41.542      91.419\n",
      "venue_count           0.0059      0.002      2.518      0.012       0.001       0.011\n",
      "mean_rating         -11.4077      3.569     -3.196      0.001     -18.423      -4.393\n",
      "mean_review_count     0.1617      0.055      2.922      0.004       0.053       0.271\n",
      "==============================================================================\n",
      "Omnibus:                       63.369   Durbin-Watson:                   1.952\n",
      "Prob(Omnibus):                  0.000   Jarque-Bera (JB):               17.730\n",
      "Skew:                           0.173   Prob(JB):                     0.000141\n",
      "Kurtosis:                       2.066   Cond. No.                     1.42e+04\n",
      "==============================================================================\n",
      "\n",
      "Notes:\n",
      "[1] Standard Errors assume that the covariance matrix of the errors is correctly specified.\n",
      "[2] The condition number is large, 1.42e+04. This might indicate that there are\n",
      "strong multicollinearity or other numerical problems.\n"
     ]
    }
   ],
   "source": [
    "# model output\n",
    "\n",
    "model = lin_reg.fit()\n",
    "print_model = model.summary()\n",
    "print(print_model)"
   ]
  },
  {
   "cell_type": "markdown",
   "metadata": {},
   "source": [
    "### Model Interpretation\n",
    "\n",
    "#### R-squared \n",
    "##### R-squared reflects the fit of the model. The R-squared value in this model is 0.167 and the Adjusted R-squared is 0.161 which means that the model is capable of explaining only 16.1% of the patterns in the data.\n",
    "\n",
    "#### P>|t| (p-value)\n",
    "##### The output here shows a p-value of 0.012 or less for each of the indpendant variables. The probablity of the relationship between number of venues, average number of venue reviews, and average venue rating for venues near a location and of free rental bikes available being due to chance is 1.2% or lower. This of course is only applicable for the specific date and time that the city bikes data was retrieved and could change based on the day and time of day that the data is observed.\n",
    "\n",
    "#### Coef\n",
    "##### The coef for the constant and each of the variables is displayed. The interesting one to me is and coef for mean venue rating. It is -11.4077. It indicates a negative correlation between mean venue rating and percent of free bikes at a bike sation. The bike sations with higher rated venues within 1000 metres of the station appear to have a lower percentage of the bikes at that station available for use. This of course could also be because areas where there are higher rated venues also have more atractions, more tourist traffic and are higher populated areas which would explain higher bike rental use.\n",
    "\n",
    "#### Confounding Variables\n",
    "##### There are likely other variables that are really the driver behind both the independant and dependant variables in this case, the most obvious ones being the resident population and volume of tourists regularly visiting specific areas of the city. More residents and more tourists would both likely be positively correlated with number of rental bikes being used and number of venues open for business in each region of the city. These are likely confounding variables and should be taken into account when reviewing this model.\n",
    "\n",
    "##### It should also be noted that the data on bike use was retrieved from the City Bikes API on a specific date and at a specific time. If the data were observed on a different date or at a different time it could impact the model differently. It would make sense to look at some average data or compare the output for data on different days of the week and different months of the year."
   ]
  },
  {
   "cell_type": "code",
   "execution_count": null,
   "metadata": {},
   "outputs": [],
   "source": []
  },
  {
   "cell_type": "markdown",
   "metadata": {},
   "source": [
    "# Stretch"
   ]
  },
  {
   "cell_type": "markdown",
   "metadata": {},
   "source": [
    "How can you turn the regression model into a classification model?"
   ]
  },
  {
   "cell_type": "markdown",
   "metadata": {},
   "source": [
    "##### I am not sure I would turn the regression model into a classification model but if I had to I would need to create a categorical variable with two possible values, like yes or no, or true or false. For example, I could create a classification model that asked to predict whether there is a bike rental station in a particular neighbourhood (yes there is, or no there isn't) based on number of venues in that area, quality of venues (measured by ratings), cost of eating at a venue, etc. Given the data set that I have I could also consider including the proximity to a post-secondary institution in a model of this type.\n",
    "\n"
   ]
  },
  {
   "cell_type": "code",
   "execution_count": null,
   "metadata": {},
   "outputs": [],
   "source": []
  }
 ],
 "metadata": {
  "kernelspec": {
   "display_name": "Python 3 (ipykernel)",
   "language": "python",
   "name": "python3"
  },
  "language_info": {
   "codemirror_mode": {
    "name": "ipython",
    "version": 3
   },
   "file_extension": ".py",
   "mimetype": "text/x-python",
   "name": "python",
   "nbconvert_exporter": "python",
   "pygments_lexer": "ipython3",
   "version": "3.11.3"
  }
 },
 "nbformat": 4,
 "nbformat_minor": 4
}
